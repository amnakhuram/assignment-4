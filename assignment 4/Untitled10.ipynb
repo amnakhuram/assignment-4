{
 "cells": [
  {
   "cell_type": "markdown",
   "id": "e7ddbb14",
   "metadata": {},
   "source": [
    "### Question no 1 CALCULATOR"
   ]
  },
  {
   "cell_type": "code",
   "execution_count": 3,
   "id": "b6189075",
   "metadata": {},
   "outputs": [
    {
     "name": "stdout",
     "output_type": "stream",
     "text": [
      "Enter first value for addition: 250\n",
      "Enter second value for addition: 300\n",
      "Enter third value for addition: 0\n",
      "550\n"
     ]
    }
   ],
   "source": [
    "# Addition (maximum value you can add is 3)\n",
    "a = int(input(\"Enter first value for addition: \"));\n",
    "b = int(input(\"Enter second value for addition: \"));\n",
    "c = int(input(\"Enter third value for addition: \"));\n",
    "d = a+b+c\n",
    "print(d)"
   ]
  },
  {
   "cell_type": "code",
   "execution_count": 4,
   "id": "6c4f96a3",
   "metadata": {},
   "outputs": [
    {
     "name": "stdout",
     "output_type": "stream",
     "text": [
      "Enter first value for subtraction: 3000\n",
      "Enter second value for subtraction: 100\n",
      "Enter third value for subtraction: 2000\n",
      "900\n"
     ]
    }
   ],
   "source": [
    "# Subtraction(maximum value you can subtract is 3)\n",
    "a = int(input(\"Enter first value for subtraction: \"));\n",
    "b = int(input(\"Enter second value for subtraction: \"));\n",
    "c = int(input(\"Enter third value for subtraction: \"));\n",
    "d = a-b-c\n",
    "print(d)"
   ]
  },
  {
   "cell_type": "code",
   "execution_count": 6,
   "id": "648222d1",
   "metadata": {},
   "outputs": [
    {
     "name": "stdout",
     "output_type": "stream",
     "text": [
      "Enter first value for power: 3\n",
      "Enter second value for power: 2\n",
      "9\n"
     ]
    }
   ],
   "source": [
    "# Power\n",
    "a = int(input(\"Enter first value for power: \"));\n",
    "b = int(input(\"Enter second value for power: \"));\n",
    "d = a**b\n",
    "print(d)"
   ]
  },
  {
   "cell_type": "code",
   "execution_count": 8,
   "id": "2b7799a2",
   "metadata": {},
   "outputs": [
    {
     "name": "stdout",
     "output_type": "stream",
     "text": [
      "Enter first value for Multiplication: 5\n",
      "Enter second value for Multiplication: 3\n",
      "15\n"
     ]
    }
   ],
   "source": [
    "# Multiplication(maximum value you can multiply is 2)\n",
    "a = int(input(\"Enter first value for Multiplication: \"));\n",
    "b = int(input(\"Enter second value for Multiplication: \"));\n",
    "d = a*b\n",
    "print(d)"
   ]
  },
  {
   "cell_type": "code",
   "execution_count": 9,
   "id": "94486f5e",
   "metadata": {},
   "outputs": [
    {
     "name": "stdout",
     "output_type": "stream",
     "text": [
      "Enter first value for division: 300\n",
      "Enter second value for division: 10\n",
      "30.0\n"
     ]
    }
   ],
   "source": [
    "# Division (maximum value you can divide is 2)\n",
    "a = int(input(\"Enter first value for division: \"));\n",
    "b = int(input(\"Enter second value for division: \"));\n",
    "d = a/b\n",
    "print(d)"
   ]
  },
  {
   "cell_type": "markdown",
   "id": "05a2fe80",
   "metadata": {},
   "source": [
    "### QUESTION NO 2 PROGRAM FOR CHEKING PRESCENCE OF ANY NUMERIC VALUE IN LIST USING FOR LOOP"
   ]
  },
  {
   "cell_type": "code",
   "execution_count": 68,
   "id": "2072aef3",
   "metadata": {},
   "outputs": [
    {
     "data": {
      "text/plain": [
       "[9, 25]"
      ]
     },
     "execution_count": 68,
     "metadata": {},
     "output_type": "execute_result"
    }
   ],
   "source": [
    "a = [\"Ramsha\", \"Elephant\",\"Natasha\",9,25];\n",
    "# b = number list\n",
    "b = [1,2,3,4,5,6,7,8,9,10,11,12,13,14,15,16,17,18,19,20,21,22,23,24,25,26,27,28,29,30]\n",
    "c = []\n",
    "for i in a:\n",
    "    for j in b:\n",
    "        if (i==j):\n",
    "            c.append(i)\n",
    "c"
   ]
  },
  {
   "cell_type": "markdown",
   "id": "d7ac944a",
   "metadata": {},
   "source": [
    "### Question no 3 TO ADD A KEY IN A DICTIONARY"
   ]
  },
  {
   "cell_type": "code",
   "execution_count": 70,
   "id": "6357f703",
   "metadata": {},
   "outputs": [
    {
     "name": "stdout",
     "output_type": "stream",
     "text": [
      "<class 'dict'>\n"
     ]
    },
    {
     "data": {
      "text/plain": [
       "{'1': 'Amna', '2': 'Ramsha', '3': 'Ali'}"
      ]
     },
     "execution_count": 70,
     "metadata": {},
     "output_type": "execute_result"
    }
   ],
   "source": [
    "names={'1':\"Amna\", '2':\"Ramsha\"}\n",
    "# names['3'] = added key\n",
    "names['3'] = 'Ali'\n",
    "print(type(names))\n",
    "names"
   ]
  },
  {
   "cell_type": "markdown",
   "id": "46cedd2d",
   "metadata": {},
   "source": [
    "### QUESTION NO 4 \"SUM ALL THE NUMERIC ITEMS IN A DICTIONARY\""
   ]
  },
  {
   "cell_type": "code",
   "execution_count": 77,
   "id": "92179ccd",
   "metadata": {},
   "outputs": [
    {
     "name": "stdout",
     "output_type": "stream",
     "text": [
      "1500\n"
     ]
    }
   ],
   "source": [
    "names={'a':0, 'b':700, 'c':300, 'd':500}\n",
    "print(sum(names.values()));"
   ]
  },
  {
   "cell_type": "markdown",
   "id": "8c2b102b",
   "metadata": {},
   "source": [
    "### Question 5 \" IDENTIFYING DUPLICATE VALUES FROM THE LISTS\""
   ]
  },
  {
   "cell_type": "code",
   "execution_count": 88,
   "id": "368c3dfc",
   "metadata": {},
   "outputs": [
    {
     "data": {
      "text/plain": [
       "['Malik', 'Anoosha']"
      ]
     },
     "execution_count": 88,
     "metadata": {},
     "output_type": "execute_result"
    }
   ],
   "source": [
    "# sport_participants ARE THE PARTICIPANTS WHO ARE PARTICIPATING IN SPORTS\n",
    "# not_participating ARE THE PARTICIPANTS WHO ARE NOT PARTICIPATING DUE TO SOME CIRCUMSTANCES\n",
    "#not_sport_participants ARE THE PARTICIPANTS WHO ARE NOT PARTICIPATING IN SPORTS\n",
    "sport_participants = [\"Ahmed\",\"Malik\",\"Hafsa\",\"Rehman\",\"Anoosha\"];\n",
    "not_participating = [\"Faiza\",\"Faizan\",\"Malik\",\"Ashra\",\"Anoosha\"];\n",
    "not_sport_participants = []\n",
    "for i in sport_participants:\n",
    "    for j in not_participating:\n",
    "        if (i==j):\n",
    "            not_sport_participants.append(i)\n",
    "not_sport_participants        "
   ]
  },
  {
   "cell_type": "markdown",
   "id": "cecf57db",
   "metadata": {},
   "source": [
    "### Question no 6 \"CHECK IF A GIVEN KEY EXIST IN DICTIONARY \""
   ]
  },
  {
   "cell_type": "code",
   "execution_count": 90,
   "id": "848bf1a8",
   "metadata": {},
   "outputs": [
    {
     "data": {
      "text/plain": [
       "{'1': 'Amna', '2': 'Malik'}"
      ]
     },
     "execution_count": 90,
     "metadata": {},
     "output_type": "execute_result"
    }
   ],
   "source": [
    "names={'1':\"Amna\", '2':\"Ramsha\"}\n",
    "names['2'] = \"Malik\"\n",
    "# if a given key exist in dictionary then the new value of key will replased by the old value of the key \n",
    "names"
   ]
  },
  {
   "cell_type": "code",
   "execution_count": null,
   "id": "250ad3b4",
   "metadata": {},
   "outputs": [],
   "source": []
  }
 ],
 "metadata": {
  "kernelspec": {
   "display_name": "Python 3",
   "language": "python",
   "name": "python3"
  },
  "language_info": {
   "codemirror_mode": {
    "name": "ipython",
    "version": 3
   },
   "file_extension": ".py",
   "mimetype": "text/x-python",
   "name": "python",
   "nbconvert_exporter": "python",
   "pygments_lexer": "ipython3",
   "version": "3.8.8"
  }
 },
 "nbformat": 4,
 "nbformat_minor": 5
}
